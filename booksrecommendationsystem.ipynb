{
 "cells": [
  {
   "cell_type": "code",
   "execution_count": 3,
   "id": "1c443a48-cb96-4dd8-935d-f2ba746e2fe8",
   "metadata": {},
   "outputs": [],
   "source": [
    "import pandas as pd\n",
    "import matplotlib.pyplot as md\n",
    "import numpy as nm\n",
    "import seaborn as sm"
   ]
  },
  {
   "cell_type": "code",
   "execution_count": 23,
   "id": "91a3174a-8cf7-4ca7-bcc1-28870a5e8d39",
   "metadata": {},
   "outputs": [],
   "source": [
    "books = pd.read_csv('data/BX-Books.csv', sep=\";\", encoding='latin-1', on_bad_lines='skip', low_memory=False)"
   ]
  },
  {
   "cell_type": "code",
   "execution_count": 25,
   "id": "39f0ad35-ab5d-4c95-be2c-d2884b57949a",
   "metadata": {},
   "outputs": [
    {
     "name": "stdout",
     "output_type": "stream",
     "text": [
      "              ISBN                                         Book-Title  \\\n",
      "0       0195153448                                Classical Mythology   \n",
      "1       0002005018                                       Clara Callan   \n",
      "2       0060973129                               Decision in Normandy   \n",
      "3       0374157065  Flu: The Story of the Great Influenza Pandemic...   \n",
      "4       0393045218                             The Mummies of Urumchi   \n",
      "...            ...                                                ...   \n",
      "271355  0440400988                         There's a Bat in Bunk Five   \n",
      "271356  0525447644                            From One to One Hundred   \n",
      "271357  006008667X  Lily Dale : The True Story of the Town that Ta...   \n",
      "271358  0192126040                        Republic (World's Classics)   \n",
      "271359  0767409752  A Guided Tour of Rene Descartes' Meditations o...   \n",
      "\n",
      "                 Book-Author Year-Of-Publication  \\\n",
      "0         Mark P. O. Morford                2002   \n",
      "1       Richard Bruce Wright                2001   \n",
      "2               Carlo D'Este                1991   \n",
      "3           Gina Bari Kolata                1999   \n",
      "4            E. J. W. Barber                1999   \n",
      "...                      ...                 ...   \n",
      "271355        Paula Danziger                1988   \n",
      "271356            Teri Sloat                1991   \n",
      "271357      Christine Wicker                2004   \n",
      "271358                 Plato                1996   \n",
      "271359   Christopher  Biffle                2000   \n",
      "\n",
      "                                               Publisher  \\\n",
      "0                                Oxford University Press   \n",
      "1                                  HarperFlamingo Canada   \n",
      "2                                        HarperPerennial   \n",
      "3                                   Farrar Straus Giroux   \n",
      "4                             W. W. Norton &amp; Company   \n",
      "...                                                  ...   \n",
      "271355                   Random House Childrens Pub (Mm)   \n",
      "271356                                      Dutton Books   \n",
      "271357                                HarperSanFrancisco   \n",
      "271358                           Oxford University Press   \n",
      "271359  McGraw-Hill Humanities/Social Sciences/Languages   \n",
      "\n",
      "                                              Image-URL-S  \\\n",
      "0       http://images.amazon.com/images/P/0195153448.0...   \n",
      "1       http://images.amazon.com/images/P/0002005018.0...   \n",
      "2       http://images.amazon.com/images/P/0060973129.0...   \n",
      "3       http://images.amazon.com/images/P/0374157065.0...   \n",
      "4       http://images.amazon.com/images/P/0393045218.0...   \n",
      "...                                                   ...   \n",
      "271355  http://images.amazon.com/images/P/0440400988.0...   \n",
      "271356  http://images.amazon.com/images/P/0525447644.0...   \n",
      "271357  http://images.amazon.com/images/P/006008667X.0...   \n",
      "271358  http://images.amazon.com/images/P/0192126040.0...   \n",
      "271359  http://images.amazon.com/images/P/0767409752.0...   \n",
      "\n",
      "                                              Image-URL-M  \\\n",
      "0       http://images.amazon.com/images/P/0195153448.0...   \n",
      "1       http://images.amazon.com/images/P/0002005018.0...   \n",
      "2       http://images.amazon.com/images/P/0060973129.0...   \n",
      "3       http://images.amazon.com/images/P/0374157065.0...   \n",
      "4       http://images.amazon.com/images/P/0393045218.0...   \n",
      "...                                                   ...   \n",
      "271355  http://images.amazon.com/images/P/0440400988.0...   \n",
      "271356  http://images.amazon.com/images/P/0525447644.0...   \n",
      "271357  http://images.amazon.com/images/P/006008667X.0...   \n",
      "271358  http://images.amazon.com/images/P/0192126040.0...   \n",
      "271359  http://images.amazon.com/images/P/0767409752.0...   \n",
      "\n",
      "                                              Image-URL-L  \n",
      "0       http://images.amazon.com/images/P/0195153448.0...  \n",
      "1       http://images.amazon.com/images/P/0002005018.0...  \n",
      "2       http://images.amazon.com/images/P/0060973129.0...  \n",
      "3       http://images.amazon.com/images/P/0374157065.0...  \n",
      "4       http://images.amazon.com/images/P/0393045218.0...  \n",
      "...                                                   ...  \n",
      "271355  http://images.amazon.com/images/P/0440400988.0...  \n",
      "271356  http://images.amazon.com/images/P/0525447644.0...  \n",
      "271357  http://images.amazon.com/images/P/006008667X.0...  \n",
      "271358  http://images.amazon.com/images/P/0192126040.0...  \n",
      "271359  http://images.amazon.com/images/P/0767409752.0...  \n",
      "\n",
      "[271360 rows x 8 columns]\n"
     ]
    }
   ],
   "source": [
    "print(books)\n"
   ]
  },
  {
   "cell_type": "code",
   "execution_count": 27,
   "id": "07096f76-3f33-4945-a244-3df06ff982af",
   "metadata": {},
   "outputs": [
    {
     "data": {
      "text/html": [
       "<div>\n",
       "<style scoped>\n",
       "    .dataframe tbody tr th:only-of-type {\n",
       "        vertical-align: middle;\n",
       "    }\n",
       "\n",
       "    .dataframe tbody tr th {\n",
       "        vertical-align: top;\n",
       "    }\n",
       "\n",
       "    .dataframe thead th {\n",
       "        text-align: right;\n",
       "    }\n",
       "</style>\n",
       "<table border=\"1\" class=\"dataframe\">\n",
       "  <thead>\n",
       "    <tr style=\"text-align: right;\">\n",
       "      <th></th>\n",
       "      <th>ISBN</th>\n",
       "      <th>Book-Title</th>\n",
       "      <th>Book-Author</th>\n",
       "      <th>Year-Of-Publication</th>\n",
       "      <th>Publisher</th>\n",
       "      <th>Image-URL-S</th>\n",
       "      <th>Image-URL-M</th>\n",
       "      <th>Image-URL-L</th>\n",
       "    </tr>\n",
       "  </thead>\n",
       "  <tbody>\n",
       "    <tr>\n",
       "      <th>0</th>\n",
       "      <td>0195153448</td>\n",
       "      <td>Classical Mythology</td>\n",
       "      <td>Mark P. O. Morford</td>\n",
       "      <td>2002</td>\n",
       "      <td>Oxford University Press</td>\n",
       "      <td>http://images.amazon.com/images/P/0195153448.0...</td>\n",
       "      <td>http://images.amazon.com/images/P/0195153448.0...</td>\n",
       "      <td>http://images.amazon.com/images/P/0195153448.0...</td>\n",
       "    </tr>\n",
       "    <tr>\n",
       "      <th>1</th>\n",
       "      <td>0002005018</td>\n",
       "      <td>Clara Callan</td>\n",
       "      <td>Richard Bruce Wright</td>\n",
       "      <td>2001</td>\n",
       "      <td>HarperFlamingo Canada</td>\n",
       "      <td>http://images.amazon.com/images/P/0002005018.0...</td>\n",
       "      <td>http://images.amazon.com/images/P/0002005018.0...</td>\n",
       "      <td>http://images.amazon.com/images/P/0002005018.0...</td>\n",
       "    </tr>\n",
       "  </tbody>\n",
       "</table>\n",
       "</div>"
      ],
      "text/plain": [
       "         ISBN           Book-Title           Book-Author Year-Of-Publication  \\\n",
       "0  0195153448  Classical Mythology    Mark P. O. Morford                2002   \n",
       "1  0002005018         Clara Callan  Richard Bruce Wright                2001   \n",
       "\n",
       "                 Publisher                                        Image-URL-S  \\\n",
       "0  Oxford University Press  http://images.amazon.com/images/P/0195153448.0...   \n",
       "1    HarperFlamingo Canada  http://images.amazon.com/images/P/0002005018.0...   \n",
       "\n",
       "                                         Image-URL-M  \\\n",
       "0  http://images.amazon.com/images/P/0195153448.0...   \n",
       "1  http://images.amazon.com/images/P/0002005018.0...   \n",
       "\n",
       "                                         Image-URL-L  \n",
       "0  http://images.amazon.com/images/P/0195153448.0...  \n",
       "1  http://images.amazon.com/images/P/0002005018.0...  "
      ]
     },
     "execution_count": 27,
     "metadata": {},
     "output_type": "execute_result"
    }
   ],
   "source": [
    "books.head(2)\n"
   ]
  },
  {
   "cell_type": "code",
   "execution_count": 29,
   "id": "f23359b8-1b59-4671-a505-92a28b884766",
   "metadata": {},
   "outputs": [
    {
     "data": {
      "text/plain": [
       "(271360, 8)"
      ]
     },
     "execution_count": 29,
     "metadata": {},
     "output_type": "execute_result"
    }
   ],
   "source": [
    "books.shape"
   ]
  },
  {
   "cell_type": "code",
   "execution_count": 33,
   "id": "80d43ab5-a57c-4e77-8e2e-24b2dc2f944c",
   "metadata": {},
   "outputs": [
    {
     "data": {
      "text/plain": [
       "Index(['ISBN', 'Book-Title', 'Book-Author', 'Year-Of-Publication', 'Publisher',\n",
       "       'Image-URL-S', 'Image-URL-M', 'Image-URL-L'],\n",
       "      dtype='object')"
      ]
     },
     "execution_count": 33,
     "metadata": {},
     "output_type": "execute_result"
    }
   ],
   "source": [
    "books.columns\n"
   ]
  },
  {
   "cell_type": "code",
   "execution_count": 35,
   "id": "ce83db4c-e34a-4437-8072-4a1abad70ba2",
   "metadata": {},
   "outputs": [],
   "source": [
    "books.rename(columns={\n",
    "    \"Book-Title\": \"title\",\n",
    "    \"Book-Author\": 'author',\n",
    "    'Year-Of-Publication': \"year\",\n",
    "    \"Publisher\": \"publication\",\n",
    "    'Image-URL-L': \"img_url\"}, inplace = True)    "
   ]
  },
  {
   "cell_type": "code",
   "execution_count": 37,
   "id": "93aef832-bf3f-436b-9a4e-cbe864d83bd5",
   "metadata": {},
   "outputs": [
    {
     "data": {
      "text/html": [
       "<div>\n",
       "<style scoped>\n",
       "    .dataframe tbody tr th:only-of-type {\n",
       "        vertical-align: middle;\n",
       "    }\n",
       "\n",
       "    .dataframe tbody tr th {\n",
       "        vertical-align: top;\n",
       "    }\n",
       "\n",
       "    .dataframe thead th {\n",
       "        text-align: right;\n",
       "    }\n",
       "</style>\n",
       "<table border=\"1\" class=\"dataframe\">\n",
       "  <thead>\n",
       "    <tr style=\"text-align: right;\">\n",
       "      <th></th>\n",
       "      <th>ISBN</th>\n",
       "      <th>title</th>\n",
       "      <th>author</th>\n",
       "      <th>year</th>\n",
       "      <th>publication</th>\n",
       "      <th>Image-URL-S</th>\n",
       "      <th>Image-URL-M</th>\n",
       "      <th>img_url</th>\n",
       "    </tr>\n",
       "  </thead>\n",
       "  <tbody>\n",
       "    <tr>\n",
       "      <th>0</th>\n",
       "      <td>0195153448</td>\n",
       "      <td>Classical Mythology</td>\n",
       "      <td>Mark P. O. Morford</td>\n",
       "      <td>2002</td>\n",
       "      <td>Oxford University Press</td>\n",
       "      <td>http://images.amazon.com/images/P/0195153448.0...</td>\n",
       "      <td>http://images.amazon.com/images/P/0195153448.0...</td>\n",
       "      <td>http://images.amazon.com/images/P/0195153448.0...</td>\n",
       "    </tr>\n",
       "    <tr>\n",
       "      <th>1</th>\n",
       "      <td>0002005018</td>\n",
       "      <td>Clara Callan</td>\n",
       "      <td>Richard Bruce Wright</td>\n",
       "      <td>2001</td>\n",
       "      <td>HarperFlamingo Canada</td>\n",
       "      <td>http://images.amazon.com/images/P/0002005018.0...</td>\n",
       "      <td>http://images.amazon.com/images/P/0002005018.0...</td>\n",
       "      <td>http://images.amazon.com/images/P/0002005018.0...</td>\n",
       "    </tr>\n",
       "  </tbody>\n",
       "</table>\n",
       "</div>"
      ],
      "text/plain": [
       "         ISBN                title                author  year  \\\n",
       "0  0195153448  Classical Mythology    Mark P. O. Morford  2002   \n",
       "1  0002005018         Clara Callan  Richard Bruce Wright  2001   \n",
       "\n",
       "               publication                                        Image-URL-S  \\\n",
       "0  Oxford University Press  http://images.amazon.com/images/P/0195153448.0...   \n",
       "1    HarperFlamingo Canada  http://images.amazon.com/images/P/0002005018.0...   \n",
       "\n",
       "                                         Image-URL-M  \\\n",
       "0  http://images.amazon.com/images/P/0195153448.0...   \n",
       "1  http://images.amazon.com/images/P/0002005018.0...   \n",
       "\n",
       "                                             img_url  \n",
       "0  http://images.amazon.com/images/P/0195153448.0...  \n",
       "1  http://images.amazon.com/images/P/0002005018.0...  "
      ]
     },
     "execution_count": 37,
     "metadata": {},
     "output_type": "execute_result"
    }
   ],
   "source": [
    "books.head(2)"
   ]
  },
  {
   "cell_type": "code",
   "execution_count": null,
   "id": "4f73f5d2-f7d8-4928-8147-5674d8e9a5a0",
   "metadata": {},
   "outputs": [],
   "source": []
  }
 ],
 "metadata": {
  "kernelspec": {
   "display_name": "Python 3 (ipykernel)",
   "language": "python",
   "name": "python3"
  },
  "language_info": {
   "codemirror_mode": {
    "name": "ipython",
    "version": 3
   },
   "file_extension": ".py",
   "mimetype": "text/x-python",
   "name": "python",
   "nbconvert_exporter": "python",
   "pygments_lexer": "ipython3",
   "version": "3.12.4"
  }
 },
 "nbformat": 4,
 "nbformat_minor": 5
}
